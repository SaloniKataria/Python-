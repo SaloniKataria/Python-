{
  "nbformat": 4,
  "nbformat_minor": 0,
  "metadata": {
    "colab": {
      "name": "LabLoop.ipynb",
      "provenance": []
    },
    "kernelspec": {
      "name": "python3",
      "display_name": "Python 3"
    },
    "language_info": {
      "name": "python"
    }
  },
  "cells": [
    {
      "cell_type": "markdown",
      "source": [
        "Q1 : Reverse Right Triangle star pattern"
      ],
      "metadata": {
        "id": "8F97xFDgSiBu"
      }
    },
    {
      "cell_type": "code",
      "execution_count": 20,
      "metadata": {
        "colab": {
          "base_uri": "https://localhost:8080/"
        },
        "id": "cMvCYGOszKuy",
        "outputId": "7545f8ae-d339-4908-ee49-7c7f197c0a49"
      },
      "outputs": [
        {
          "output_type": "stream",
          "name": "stdout",
          "text": [
            "**********\n",
            " *********\n",
            "  ********\n",
            "   *******\n",
            "    ******\n",
            "     *****\n",
            "      ****\n",
            "       ***\n",
            "        **\n",
            "         *\n"
          ]
        }
      ],
      "source": [
        "rows = 10\n",
        "\n",
        "for i in range (1,rows+1) : \n",
        "  for j in range(1,rows+1): \n",
        "    if (j<i): \n",
        "      print (' ' , end = '')\n",
        "    else : \n",
        "        print('*' , end= '')\n",
        "  print()\n",
        "\n",
        " \n",
        "  "
      ]
    },
    {
      "cell_type": "markdown",
      "source": [
        "Q2: Calculate value of Pi "
      ],
      "metadata": {
        "id": "brSQ78j4Sfpa"
      }
    },
    {
      "cell_type": "code",
      "source": [
        "k = 1\n",
        "\n",
        "s = 0 \n",
        "\n",
        "for i in range (100000) : \n",
        "  if i % 2 == 0 :\n",
        "    s += 4/k\n",
        "\n",
        "  else: \n",
        "      s -= 4/k\n",
        "\n",
        "  k += 2 \n",
        "\n",
        "print(s)\n",
        "\n"
      ],
      "metadata": {
        "colab": {
          "base_uri": "https://localhost:8080/"
        },
        "id": "dJq-4VCdUjAR",
        "outputId": "1fd813d4-83cf-4854-9b4f-91b258dde950"
      },
      "execution_count": 32,
      "outputs": [
        {
          "output_type": "stream",
          "name": "stdout",
          "text": [
            "3.1415826535897198\n"
          ]
        }
      ]
    }
  ]
}