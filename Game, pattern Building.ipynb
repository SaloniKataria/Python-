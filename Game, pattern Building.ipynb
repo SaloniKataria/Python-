{
  "cells": [
    {
      "cell_type": "code",
      "execution_count": null,
      "id": "62444882-57aa-4533-94e8-5f7f90a31a55",
      "metadata": {
        "id": "62444882-57aa-4533-94e8-5f7f90a31a55",
        "outputId": "2b6bda1d-c5c2-4a1a-9be9-6891de3e4953"
      },
      "outputs": [
        {
          "name": "stdin",
          "output_type": "stream",
          "text": [
            "Enter a positive integer? -5\n"
          ]
        },
        {
          "name": "stdout",
          "output_type": "stream",
          "text": [
            "Input invalid. Please enter a positive integer\n",
            "The sum is  0\n"
          ]
        }
      ],
      "source": [
        "# Ask the user to enter a positive integer and calculate the sum \n",
        "\n",
        "# Initialise sum variable \n",
        "sum = 0\n",
        "\n",
        "#Input value from user\n",
        "n = int(input (\"Enter a positive integer?\"))\n",
        " \n",
        "#Calculate sum using for loop \n",
        "if n > 0:\n",
        "    for i in range(1,n+1):\n",
        "        t = 2*i- 1\n",
        "        sum = sum+t\n",
        "else: \n",
        "    print(\"Input invalid. Please enter a positive integer\")\n",
        "        \n",
        "print(\"The sum is \", sum)"
      ]
    },
    {
      "cell_type": "code",
      "execution_count": null,
      "id": "6fe611fc-e63a-4072-a525-34d4c5c024d0",
      "metadata": {
        "id": "6fe611fc-e63a-4072-a525-34d4c5c024d0",
        "outputId": "2b463cf0-7051-4cbf-e888-5af819de32f2"
      },
      "outputs": [
        {
          "name": "stdin",
          "output_type": "stream",
          "text": [
            "Enter a positive integer? 5\n"
          ]
        },
        {
          "name": "stdout",
          "output_type": "stream",
          "text": [
            "1  \n",
            "1 2  \n",
            "1 2 3  \n",
            "1 2 3 4  \n",
            "1 2 3 4 5  \n"
          ]
        }
      ],
      "source": [
        "# input number from user and build a number triangle \n",
        "\n",
        "#Input number from user\n",
        "num = int(input(\"Enter a positive integer?\"))\n",
        "\n",
        "i = 1\n",
        "\n",
        "if num >= 0:\n",
        "    for i in range(1,num+1):\n",
        "        for j in range(1, i+1):\n",
        "            print(j, sep =' ', end = ' ')\n",
        "        print(' ')\n",
        "else: \n",
        "    print(\"Input invalid. Please enter a positive integer\")"
      ]
    },
    {
      "cell_type": "code",
      "execution_count": null,
      "id": "78d4feb1-9b8f-452f-bac6-af1d3a081a42",
      "metadata": {
        "id": "78d4feb1-9b8f-452f-bac6-af1d3a081a42",
        "outputId": "431ff513-85ad-460e-8fa5-8b9f482179b1"
      },
      "outputs": [
        {
          "name": "stdin",
          "output_type": "stream",
          "text": [
            "What is the coefficient of x square? 1\n",
            "What is the coefficient of x ? -4\n",
            "What is the value of intercept? 4\n"
          ]
        },
        {
          "name": "stdout",
          "output_type": "stream",
          "text": [
            "Roots are real and same\n",
            "The roots are  2.0\n"
          ]
        }
      ],
      "source": [
        "# get three number input of quadratic equation coefficients \n",
        "# quadratic equation is ax(sq) + bx + c = 0\n",
        "\n",
        "a = int(input(\"What is the coefficient of x square?\"))\n",
        "b = int(input(\"What is the coefficient of x ?\"))\n",
        "c = int(input(\"What is the value of intercept?\"))\n",
        "\n",
        "import math \n",
        "\n",
        "# Formulating function of roots of the quadratic equation\n",
        "# defining discriminant\n",
        "d = b*b - 4*a*c\n",
        "\n",
        "if d > 0: \n",
        "    print(\"Roots are real and different\")\n",
        "    print (\"The root1 is \", (-b + math.sqrt(d)) / 2*a)\n",
        "    print (\"The root2 is \", (-b - math.sqrt(d)) / 2*a)\n",
        "elif d == 0:\n",
        "    print(\"Roots are real and same\")\n",
        "    print (\"The roots are \", -b / 2*a)\n",
        "else: \n",
        "    print(\"No solution\")"
      ]
    },
    {
      "cell_type": "code",
      "execution_count": null,
      "id": "3dbeaeae-1d17-46c8-9d13-0a1346df04ec",
      "metadata": {
        "id": "3dbeaeae-1d17-46c8-9d13-0a1346df04ec",
        "outputId": "236edec4-7e5a-4b1d-dce6-253dac2802a3"
      },
      "outputs": [
        {
          "name": "stdin",
          "output_type": "stream",
          "text": [
            "What is the height of the pattern? 15\n"
          ]
        },
        {
          "name": "stdout",
          "output_type": "stream",
          "text": [
            "*                             *\n",
            "***                         ***\n",
            "*****                     *****\n",
            "*******                 *******\n",
            "*********             *********\n",
            "***********         ***********\n",
            "*************     *************\n",
            "*************** ***************\n",
            " \n"
          ]
        }
      ],
      "source": [
        "# Print a star pattern using the height input by user\n",
        "\n",
        "# Ask the user the height\n",
        "h = int(input(\"What is the height of the pattern?\"))\n",
        "\n",
        "# Using loop to build the pattern \n",
        "\n",
        "# initialise the row number \n",
        "i = 1\n",
        "\n",
        "# fixing the number of columns \n",
        "j = 2*h + 1\n",
        "\n",
        "star = \"*\"\n",
        "space = \" \"\n",
        "\n",
        "# Forming a loop to print the pattern\n",
        "for i in range(1, h+1):\n",
        "    if i%2 != 0: \n",
        "        print(i*star + (j-2*i)*space + i*star)\n",
        "    else: \n",
        "        continue\n",
        "print(' ')"
      ]
    },
    {
      "cell_type": "code",
      "execution_count": null,
      "id": "ee2cb376-6d5d-43b0-9bbb-fd599bc08ba1",
      "metadata": {
        "id": "ee2cb376-6d5d-43b0-9bbb-fd599bc08ba1",
        "outputId": "690a4588-cd74-43d7-a03e-ed839db2ae6b"
      },
      "outputs": [
        {
          "name": "stdin",
          "output_type": "stream",
          "text": [
            "How many marbles to start with? 12\n"
          ]
        },
        {
          "name": "stdout",
          "output_type": "stream",
          "text": [
            "Number of marbles left are  12\n"
          ]
        },
        {
          "name": "stdin",
          "output_type": "stream",
          "text": [
            "How many marbles do you want to take? Pick 1, 2 or 3 marbles only 2\n"
          ]
        },
        {
          "name": "stdout",
          "output_type": "stream",
          "text": [
            "Number of marbles left are  10\n"
          ]
        },
        {
          "name": "stdin",
          "output_type": "stream",
          "text": [
            "How many marbles do you want to take? Pick 1, 2 or 3 marbles only 3\n"
          ]
        },
        {
          "name": "stdout",
          "output_type": "stream",
          "text": [
            "Number of marbles left are  7\n"
          ]
        },
        {
          "name": "stdin",
          "output_type": "stream",
          "text": [
            "How many marbles do you want to take? Pick 1, 2 or 3 marbles only 1\n"
          ]
        },
        {
          "name": "stdout",
          "output_type": "stream",
          "text": [
            "Number of marbles left are  6\n"
          ]
        },
        {
          "name": "stdin",
          "output_type": "stream",
          "text": [
            "How many marbles do you want to take? Pick 1, 2 or 3 marbles only 2\n"
          ]
        },
        {
          "name": "stdout",
          "output_type": "stream",
          "text": [
            "Number of marbles left are  4\n"
          ]
        },
        {
          "name": "stdin",
          "output_type": "stream",
          "text": [
            "How many marbles do you want to take? Pick 1, 2 or 3 marbles only 3\n"
          ]
        },
        {
          "name": "stdout",
          "output_type": "stream",
          "text": [
            "Number of marbles left are  1\n"
          ]
        },
        {
          "name": "stdin",
          "output_type": "stream",
          "text": [
            "How many marbles do you want to take? Pick 1, 2 or 3 marbles only 1\n"
          ]
        },
        {
          "name": "stdout",
          "output_type": "stream",
          "text": [
            "Player1 is the winner\n",
            " \n"
          ]
        }
      ],
      "source": [
        "# Formulating marble game for two players \n",
        "\n",
        "# Asking the user to input the number of marbles at the beginning \n",
        "marbles = int(input(\"How many marbles to start with?\"))\n",
        "\n",
        "# Setting initial values \n",
        "player1 = 0\n",
        "player2 = 0\n",
        "\n",
        "# Setting number of marbles left\n",
        "n = marbles\n",
        "if n > 0:\n",
        "    for i in range(0,n):\n",
        "        print(\"Number of marbles left are \", n)\n",
        "        player1 = int(input(\"How many marbles do you want to take? Pick 1, 2 or 3 marbles only\"))\n",
        "        if player1 == 1 or player1 == 2 or player1 == 3:\n",
        "            n -= player1\n",
        "            if n == 0: \n",
        "                print(\"Player1 is the winner\")\n",
        "                break\n",
        "            else: \n",
        "                continue\n",
        "            print(\"Number of marbles left are  \", n)\n",
        "            player2 = int(input(\"How many marbles do you want to take? Pick 1, 2 or 3 marbles only\"))\n",
        "            if player2 == 1 or player2 == 2 or player2 == 3:\n",
        "                n -= player2\n",
        "                if n == 0: \n",
        "                    print(\"Player2 is the winner\")\n",
        "                    break\n",
        "                else: \n",
        "                    continue\n",
        "            else: \n",
        "                print (\"Invalid numberm choose from 1,2 or 3\")\n",
        "        else: \n",
        "            print (\"Invalid numberm choose from 1,2 or 3\")\n",
        "print(' ')\n",
        "                "
      ]
    },
    {
      "cell_type": "code",
      "execution_count": null,
      "id": "718489f6-20cd-4930-a019-af06d1805097",
      "metadata": {
        "id": "718489f6-20cd-4930-a019-af06d1805097"
      },
      "outputs": [],
      "source": []
    },
    {
      "cell_type": "code",
      "execution_count": null,
      "id": "5ef2dc89-04c5-4996-83fa-18309a9faa44",
      "metadata": {
        "id": "5ef2dc89-04c5-4996-83fa-18309a9faa44"
      },
      "outputs": [],
      "source": []
    }
  ],
  "metadata": {
    "kernelspec": {
      "display_name": "Python 3",
      "language": "python",
      "name": "python3"
    },
    "language_info": {
      "codemirror_mode": {
        "name": "ipython",
        "version": 3
      },
      "file_extension": ".py",
      "mimetype": "text/x-python",
      "name": "python",
      "nbconvert_exporter": "python",
      "pygments_lexer": "ipython3",
      "version": "3.8.8"
    },
    "colab": {
      "provenance": []
    }
  },
  "nbformat": 4,
  "nbformat_minor": 5
}