{
  "cells": [
    {
      "cell_type": "code",
      "execution_count": null,
      "id": "42095ec1-8740-4b55-b70c-15c895c7ecb9",
      "metadata": {
        "id": "42095ec1-8740-4b55-b70c-15c895c7ecb9",
        "outputId": "6c839fad-fa13-42b7-b4be-766a13f02ebe"
      },
      "outputs": [
        {
          "name": "stdout",
          "output_type": "stream",
          "text": [
            "{'coke': 10, 'juice': 5, 'milk': 13}\n"
          ]
        }
      ],
      "source": [
        "import os\n",
        "os.getcwd()\n",
        "os.chdir('/Users/Guests/Downloads')\n",
        "\n",
        "# Exercise 1.1 :Read the stock.txt and store as a dictionary named stock\n",
        "\n",
        "stock = {}\n",
        "with open(\"stock.txt\") as file:\n",
        "    for line in file:\n",
        "        (key,value) = line.split(\",\")\n",
        "        stock[key] = int(value)\n",
        "        \n",
        "print(stock)"
      ]
    },
    {
      "cell_type": "code",
      "execution_count": null,
      "id": "c20ccb4b-984a-438c-a08e-b56453a498a8",
      "metadata": {
        "id": "c20ccb4b-984a-438c-a08e-b56453a498a8",
        "outputId": "226d0b85-a425-4ec6-e3cd-e58908f61917"
      },
      "outputs": [
        {
          "name": "stdout",
          "output_type": "stream",
          "text": [
            "The total of stocks are 28\n",
            "The mean value of stocks is 9.333333333333334\n",
            "The maximum value of stocks are 13\n",
            "The minimum value of stocks are 5\n"
          ]
        }
      ],
      "source": [
        "# Exercise 1.2 :Write a function to generate overall stats for all products\n",
        "list1 = []\n",
        "def gen_stats(x):\n",
        "    for i in x:\n",
        "        list1.append(x[i])\n",
        "    total = sum(list1)\n",
        "    mean = total/len(list1)\n",
        "    print(\"The total of stocks are\" ,total)\n",
        "    print(\"The mean value of stocks is\" , mean)\n",
        "    print(\"The maximum value of stocks are\" , max(list1))\n",
        "    print(\"The minimum value of stocks are\" , min(list1))\n",
        "    return None \n",
        "    \n",
        "# Call the function\n",
        "gen_stats(stock)"
      ]
    },
    {
      "cell_type": "code",
      "execution_count": null,
      "id": "dcd8cf74-8b62-41e2-a5a7-5c3c81cdc346",
      "metadata": {
        "id": "dcd8cf74-8b62-41e2-a5a7-5c3c81cdc346",
        "outputId": "307df575-c8e5-4a3c-aef9-3b892bc8a6a8"
      },
      "outputs": [
        {
          "name": "stdin",
          "output_type": "stream",
          "text": [
            "Enter a product name:  orange\n"
          ]
        },
        {
          "name": "stdout",
          "output_type": "stream",
          "text": [
            "We do not have this product\n"
          ]
        }
      ],
      "source": [
        "# Exercise 1.3: Write a function to calculate the amount of a given product \n",
        "\n",
        "def check_stock(x):\n",
        "    if x in stock:\n",
        "        print(\"The number is: \", stock[x])\n",
        "    else: \n",
        "        print(\"We do not have this product\")\n",
        "        \n",
        "product_name = input(\"Enter a product name: \")\n",
        "\n",
        "# Calling the function\n",
        "check_stock(product_name)"
      ]
    },
    {
      "cell_type": "code",
      "execution_count": null,
      "id": "851839bd-516f-4bf5-92f9-ca87738315b1",
      "metadata": {
        "id": "851839bd-516f-4bf5-92f9-ca87738315b1",
        "outputId": "15d04b10-adec-47d3-bd71-0fb4510858c2"
      },
      "outputs": [
        {
          "name": "stdin",
          "output_type": "stream",
          "text": [
            "Enter a product name:  orah\n",
            "Enter the updated value:  23\n"
          ]
        },
        {
          "name": "stdout",
          "output_type": "stream",
          "text": [
            "We do not have this product\n"
          ]
        }
      ],
      "source": [
        "# Exercise 1.4: Write a function to update the amount for a given product \n",
        "\n",
        "def update_stock(x,y):\n",
        "    if x in stock:\n",
        "        stock[x] = y\n",
        "        print(stock)\n",
        "    else: \n",
        "        print(\"We do not have this product\") \n",
        "    \n",
        "product_name = input(\"Enter a product name: \")\n",
        "product_value = input(\"Enter the updated value: \")\n",
        "\n",
        "# Calling the function\n",
        "update_stock(product_name, product_value)"
      ]
    }
  ],
  "metadata": {
    "kernelspec": {
      "display_name": "Python 3",
      "language": "python",
      "name": "python3"
    },
    "language_info": {
      "codemirror_mode": {
        "name": "ipython",
        "version": 3
      },
      "file_extension": ".py",
      "mimetype": "text/x-python",
      "name": "python",
      "nbconvert_exporter": "python",
      "pygments_lexer": "ipython3",
      "version": "3.8.8"
    },
    "colab": {
      "provenance": []
    }
  },
  "nbformat": 4,
  "nbformat_minor": 5
}